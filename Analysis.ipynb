{
 "cells": [
  {
   "cell_type": "markdown",
   "id": "1f5bd858",
   "metadata": {},
   "source": [
    "# introduction"
   ]
  },
  {
   "cell_type": "markdown",
   "id": "80bf0f80",
   "metadata": {},
   "source": [
    "This dataset collects information from 100k medical appointments in Brazil and characteristics of each patient in terms of the type of disease and whether the patient attended on the appointment or not and we will analyze them to extract the useful results"
   ]
  },
  {
   "cell_type": "markdown",
   "id": "5b466a5b",
   "metadata": {},
   "source": [
    "# Questions"
   ]
  },
  {
   "cell_type": "markdown",
   "id": "acaaf557",
   "metadata": {},
   "source": [
    "1-how many  Alcoholism per gender/which gender is more Alcoholism?"
   ]
  },
  {
   "cell_type": "markdown",
   "id": "dced6289",
   "metadata": {},
   "source": [
    "which day has the highest and lowest rate of all diseases?"
   ]
  },
  {
   "cell_type": "code",
   "execution_count": 1,
   "id": "9dfd73a7",
   "metadata": {},
   "outputs": [],
   "source": [
    "import pandas as pd\n",
    "import numpy as np\n",
    "import seaborn as sns\n",
    "import matplotlib.pyplot as plt\n",
    "%matplotlib inline"
   ]
  },
  {
   "cell_type": "markdown",
   "id": "e7eec4e3",
   "metadata": {},
   "source": [
    "# Data Wrangling"
   ]
  },
  {
   "cell_type": "code",
   "execution_count": 2,
   "id": "df6153f0",
   "metadata": {},
   "outputs": [],
   "source": [
    "df=pd.read_csv('noshowappointments_kaggle.csv')"
   ]
  },
  {
   "cell_type": "code",
   "execution_count": 3,
   "id": "1aa5a23a",
   "metadata": {},
   "outputs": [
    {
     "data": {
      "text/html": [
       "<div>\n",
       "<style scoped>\n",
       "    .dataframe tbody tr th:only-of-type {\n",
       "        vertical-align: middle;\n",
       "    }\n",
       "\n",
       "    .dataframe tbody tr th {\n",
       "        vertical-align: top;\n",
       "    }\n",
       "\n",
       "    .dataframe thead th {\n",
       "        text-align: right;\n",
       "    }\n",
       "</style>\n",
       "<table border=\"1\" class=\"dataframe\">\n",
       "  <thead>\n",
       "    <tr style=\"text-align: right;\">\n",
       "      <th></th>\n",
       "      <th>PatientId</th>\n",
       "      <th>AppointmentID</th>\n",
       "      <th>Gender</th>\n",
       "      <th>ScheduledDay</th>\n",
       "      <th>AppointmentDay</th>\n",
       "      <th>Age</th>\n",
       "      <th>Neighbourhood</th>\n",
       "      <th>Scholarship</th>\n",
       "      <th>Hipertension</th>\n",
       "      <th>Diabetes</th>\n",
       "      <th>Alcoholism</th>\n",
       "      <th>Handcap</th>\n",
       "      <th>SMS_received</th>\n",
       "      <th>No-show</th>\n",
       "    </tr>\n",
       "  </thead>\n",
       "  <tbody>\n",
       "    <tr>\n",
       "      <th>0</th>\n",
       "      <td>2.987250e+13</td>\n",
       "      <td>5642903</td>\n",
       "      <td>F</td>\n",
       "      <td>2016-04-29T18:38:08Z</td>\n",
       "      <td>2016-04-29T00:00:00Z</td>\n",
       "      <td>62</td>\n",
       "      <td>JARDIM DA PENHA</td>\n",
       "      <td>0</td>\n",
       "      <td>1</td>\n",
       "      <td>0</td>\n",
       "      <td>0</td>\n",
       "      <td>0</td>\n",
       "      <td>0</td>\n",
       "      <td>No</td>\n",
       "    </tr>\n",
       "    <tr>\n",
       "      <th>1</th>\n",
       "      <td>5.589978e+14</td>\n",
       "      <td>5642503</td>\n",
       "      <td>M</td>\n",
       "      <td>2016-04-29T16:08:27Z</td>\n",
       "      <td>2016-04-29T00:00:00Z</td>\n",
       "      <td>56</td>\n",
       "      <td>JARDIM DA PENHA</td>\n",
       "      <td>0</td>\n",
       "      <td>0</td>\n",
       "      <td>0</td>\n",
       "      <td>0</td>\n",
       "      <td>0</td>\n",
       "      <td>0</td>\n",
       "      <td>No</td>\n",
       "    </tr>\n",
       "    <tr>\n",
       "      <th>2</th>\n",
       "      <td>4.262962e+12</td>\n",
       "      <td>5642549</td>\n",
       "      <td>F</td>\n",
       "      <td>2016-04-29T16:19:04Z</td>\n",
       "      <td>2016-04-29T00:00:00Z</td>\n",
       "      <td>62</td>\n",
       "      <td>MATA DA PRAIA</td>\n",
       "      <td>0</td>\n",
       "      <td>0</td>\n",
       "      <td>0</td>\n",
       "      <td>0</td>\n",
       "      <td>0</td>\n",
       "      <td>0</td>\n",
       "      <td>No</td>\n",
       "    </tr>\n",
       "    <tr>\n",
       "      <th>3</th>\n",
       "      <td>8.679512e+11</td>\n",
       "      <td>5642828</td>\n",
       "      <td>F</td>\n",
       "      <td>2016-04-29T17:29:31Z</td>\n",
       "      <td>2016-04-29T00:00:00Z</td>\n",
       "      <td>8</td>\n",
       "      <td>PONTAL DE CAMBURI</td>\n",
       "      <td>0</td>\n",
       "      <td>0</td>\n",
       "      <td>0</td>\n",
       "      <td>0</td>\n",
       "      <td>0</td>\n",
       "      <td>0</td>\n",
       "      <td>No</td>\n",
       "    </tr>\n",
       "    <tr>\n",
       "      <th>4</th>\n",
       "      <td>8.841186e+12</td>\n",
       "      <td>5642494</td>\n",
       "      <td>F</td>\n",
       "      <td>2016-04-29T16:07:23Z</td>\n",
       "      <td>2016-04-29T00:00:00Z</td>\n",
       "      <td>56</td>\n",
       "      <td>JARDIM DA PENHA</td>\n",
       "      <td>0</td>\n",
       "      <td>1</td>\n",
       "      <td>1</td>\n",
       "      <td>0</td>\n",
       "      <td>0</td>\n",
       "      <td>0</td>\n",
       "      <td>No</td>\n",
       "    </tr>\n",
       "    <tr>\n",
       "      <th>...</th>\n",
       "      <td>...</td>\n",
       "      <td>...</td>\n",
       "      <td>...</td>\n",
       "      <td>...</td>\n",
       "      <td>...</td>\n",
       "      <td>...</td>\n",
       "      <td>...</td>\n",
       "      <td>...</td>\n",
       "      <td>...</td>\n",
       "      <td>...</td>\n",
       "      <td>...</td>\n",
       "      <td>...</td>\n",
       "      <td>...</td>\n",
       "      <td>...</td>\n",
       "    </tr>\n",
       "    <tr>\n",
       "      <th>110522</th>\n",
       "      <td>2.572134e+12</td>\n",
       "      <td>5651768</td>\n",
       "      <td>F</td>\n",
       "      <td>2016-05-03T09:15:35Z</td>\n",
       "      <td>2016-06-07T00:00:00Z</td>\n",
       "      <td>56</td>\n",
       "      <td>MARIA ORTIZ</td>\n",
       "      <td>0</td>\n",
       "      <td>0</td>\n",
       "      <td>0</td>\n",
       "      <td>0</td>\n",
       "      <td>0</td>\n",
       "      <td>1</td>\n",
       "      <td>No</td>\n",
       "    </tr>\n",
       "    <tr>\n",
       "      <th>110523</th>\n",
       "      <td>3.596266e+12</td>\n",
       "      <td>5650093</td>\n",
       "      <td>F</td>\n",
       "      <td>2016-05-03T07:27:33Z</td>\n",
       "      <td>2016-06-07T00:00:00Z</td>\n",
       "      <td>51</td>\n",
       "      <td>MARIA ORTIZ</td>\n",
       "      <td>0</td>\n",
       "      <td>0</td>\n",
       "      <td>0</td>\n",
       "      <td>0</td>\n",
       "      <td>0</td>\n",
       "      <td>1</td>\n",
       "      <td>No</td>\n",
       "    </tr>\n",
       "    <tr>\n",
       "      <th>110524</th>\n",
       "      <td>1.557663e+13</td>\n",
       "      <td>5630692</td>\n",
       "      <td>F</td>\n",
       "      <td>2016-04-27T16:03:52Z</td>\n",
       "      <td>2016-06-07T00:00:00Z</td>\n",
       "      <td>21</td>\n",
       "      <td>MARIA ORTIZ</td>\n",
       "      <td>0</td>\n",
       "      <td>0</td>\n",
       "      <td>0</td>\n",
       "      <td>0</td>\n",
       "      <td>0</td>\n",
       "      <td>1</td>\n",
       "      <td>No</td>\n",
       "    </tr>\n",
       "    <tr>\n",
       "      <th>110525</th>\n",
       "      <td>9.213493e+13</td>\n",
       "      <td>5630323</td>\n",
       "      <td>F</td>\n",
       "      <td>2016-04-27T15:09:23Z</td>\n",
       "      <td>2016-06-07T00:00:00Z</td>\n",
       "      <td>38</td>\n",
       "      <td>MARIA ORTIZ</td>\n",
       "      <td>0</td>\n",
       "      <td>0</td>\n",
       "      <td>0</td>\n",
       "      <td>0</td>\n",
       "      <td>0</td>\n",
       "      <td>1</td>\n",
       "      <td>No</td>\n",
       "    </tr>\n",
       "    <tr>\n",
       "      <th>110526</th>\n",
       "      <td>3.775115e+14</td>\n",
       "      <td>5629448</td>\n",
       "      <td>F</td>\n",
       "      <td>2016-04-27T13:30:56Z</td>\n",
       "      <td>2016-06-07T00:00:00Z</td>\n",
       "      <td>54</td>\n",
       "      <td>MARIA ORTIZ</td>\n",
       "      <td>0</td>\n",
       "      <td>0</td>\n",
       "      <td>0</td>\n",
       "      <td>0</td>\n",
       "      <td>0</td>\n",
       "      <td>1</td>\n",
       "      <td>No</td>\n",
       "    </tr>\n",
       "  </tbody>\n",
       "</table>\n",
       "<p>110527 rows × 14 columns</p>\n",
       "</div>"
      ],
      "text/plain": [
       "           PatientId  AppointmentID Gender          ScheduledDay  \\\n",
       "0       2.987250e+13        5642903      F  2016-04-29T18:38:08Z   \n",
       "1       5.589978e+14        5642503      M  2016-04-29T16:08:27Z   \n",
       "2       4.262962e+12        5642549      F  2016-04-29T16:19:04Z   \n",
       "3       8.679512e+11        5642828      F  2016-04-29T17:29:31Z   \n",
       "4       8.841186e+12        5642494      F  2016-04-29T16:07:23Z   \n",
       "...              ...            ...    ...                   ...   \n",
       "110522  2.572134e+12        5651768      F  2016-05-03T09:15:35Z   \n",
       "110523  3.596266e+12        5650093      F  2016-05-03T07:27:33Z   \n",
       "110524  1.557663e+13        5630692      F  2016-04-27T16:03:52Z   \n",
       "110525  9.213493e+13        5630323      F  2016-04-27T15:09:23Z   \n",
       "110526  3.775115e+14        5629448      F  2016-04-27T13:30:56Z   \n",
       "\n",
       "              AppointmentDay  Age      Neighbourhood  Scholarship  \\\n",
       "0       2016-04-29T00:00:00Z   62    JARDIM DA PENHA            0   \n",
       "1       2016-04-29T00:00:00Z   56    JARDIM DA PENHA            0   \n",
       "2       2016-04-29T00:00:00Z   62      MATA DA PRAIA            0   \n",
       "3       2016-04-29T00:00:00Z    8  PONTAL DE CAMBURI            0   \n",
       "4       2016-04-29T00:00:00Z   56    JARDIM DA PENHA            0   \n",
       "...                      ...  ...                ...          ...   \n",
       "110522  2016-06-07T00:00:00Z   56        MARIA ORTIZ            0   \n",
       "110523  2016-06-07T00:00:00Z   51        MARIA ORTIZ            0   \n",
       "110524  2016-06-07T00:00:00Z   21        MARIA ORTIZ            0   \n",
       "110525  2016-06-07T00:00:00Z   38        MARIA ORTIZ            0   \n",
       "110526  2016-06-07T00:00:00Z   54        MARIA ORTIZ            0   \n",
       "\n",
       "        Hipertension  Diabetes  Alcoholism  Handcap  SMS_received No-show  \n",
       "0                  1         0           0        0             0      No  \n",
       "1                  0         0           0        0             0      No  \n",
       "2                  0         0           0        0             0      No  \n",
       "3                  0         0           0        0             0      No  \n",
       "4                  1         1           0        0             0      No  \n",
       "...              ...       ...         ...      ...           ...     ...  \n",
       "110522             0         0           0        0             1      No  \n",
       "110523             0         0           0        0             1      No  \n",
       "110524             0         0           0        0             1      No  \n",
       "110525             0         0           0        0             1      No  \n",
       "110526             0         0           0        0             1      No  \n",
       "\n",
       "[110527 rows x 14 columns]"
      ]
     },
     "execution_count": 3,
     "metadata": {},
     "output_type": "execute_result"
    }
   ],
   "source": [
    "df"
   ]
  },
  {
   "cell_type": "code",
   "execution_count": 4,
   "id": "4c7899c9",
   "metadata": {},
   "outputs": [
    {
     "name": "stdout",
     "output_type": "stream",
     "text": [
      "<class 'pandas.core.frame.DataFrame'>\n",
      "RangeIndex: 110527 entries, 0 to 110526\n",
      "Data columns (total 14 columns):\n",
      " #   Column          Non-Null Count   Dtype  \n",
      "---  ------          --------------   -----  \n",
      " 0   PatientId       110527 non-null  float64\n",
      " 1   AppointmentID   110527 non-null  int64  \n",
      " 2   Gender          110527 non-null  object \n",
      " 3   ScheduledDay    110527 non-null  object \n",
      " 4   AppointmentDay  110527 non-null  object \n",
      " 5   Age             110527 non-null  int64  \n",
      " 6   Neighbourhood   110527 non-null  object \n",
      " 7   Scholarship     110527 non-null  int64  \n",
      " 8   Hipertension    110527 non-null  int64  \n",
      " 9   Diabetes        110527 non-null  int64  \n",
      " 10  Alcoholism      110527 non-null  int64  \n",
      " 11  Handcap         110527 non-null  int64  \n",
      " 12  SMS_received    110527 non-null  int64  \n",
      " 13  No-show         110527 non-null  object \n",
      "dtypes: float64(1), int64(8), object(5)\n",
      "memory usage: 11.8+ MB\n"
     ]
    }
   ],
   "source": [
    "df.info()"
   ]
  },
  {
   "cell_type": "markdown",
   "id": "86141b08",
   "metadata": {},
   "source": [
    "function to print short summary of the dataframe"
   ]
  },
  {
   "cell_type": "code",
   "execution_count": 5,
   "id": "1be3a6ff",
   "metadata": {},
   "outputs": [
    {
     "data": {
      "text/plain": [
       "PatientId         0\n",
       "AppointmentID     0\n",
       "Gender            0\n",
       "ScheduledDay      0\n",
       "AppointmentDay    0\n",
       "Age               0\n",
       "Neighbourhood     0\n",
       "Scholarship       0\n",
       "Hipertension      0\n",
       "Diabetes          0\n",
       "Alcoholism        0\n",
       "Handcap           0\n",
       "SMS_received      0\n",
       "No-show           0\n",
       "dtype: int64"
      ]
     },
     "execution_count": 5,
     "metadata": {},
     "output_type": "execute_result"
    }
   ],
   "source": [
    "df.isnull().sum()"
   ]
  },
  {
   "cell_type": "markdown",
   "id": "b8efd5f2",
   "metadata": {},
   "source": [
    "count the total number for missing data in each column"
   ]
  },
  {
   "cell_type": "code",
   "execution_count": 6,
   "id": "080d88ef",
   "metadata": {},
   "outputs": [
    {
     "data": {
      "text/plain": [
       "0"
      ]
     },
     "execution_count": 6,
     "metadata": {},
     "output_type": "execute_result"
    }
   ],
   "source": [
    "df.duplicated().sum()"
   ]
  },
  {
   "cell_type": "markdown",
   "id": "bf08da22",
   "metadata": {},
   "source": [
    "count the total duplicated in each column"
   ]
  },
  {
   "cell_type": "markdown",
   "id": "ed0ea5c8",
   "metadata": {},
   "source": [
    "# Data Cleaning"
   ]
  },
  {
   "cell_type": "code",
   "execution_count": 7,
   "id": "c56c796b",
   "metadata": {},
   "outputs": [],
   "source": [
    "#convert from object to datatime to make it more suitable\n",
    "df['AppointmentDay']=pd.to_datetime(df['AppointmentDay'])"
   ]
  },
  {
   "cell_type": "markdown",
   "id": "d1767ac6",
   "metadata": {},
   "source": [
    "convert from object to datatime to make it more suitable"
   ]
  },
  {
   "cell_type": "code",
   "execution_count": 8,
   "id": "39fe60e9",
   "metadata": {},
   "outputs": [],
   "source": [
    "#convert datetime to format 'Y-m-d'\n",
    "df['AppointmentDay']=pd.to_datetime(df['AppointmentDay'].dt.strftime('%Y-%m-%d'))"
   ]
  },
  {
   "cell_type": "markdown",
   "id": "6f806c61",
   "metadata": {},
   "source": [
    "convert datetime to format 'Y-m-d'"
   ]
  },
  {
   "cell_type": "code",
   "execution_count": 9,
   "id": "ee032192",
   "metadata": {},
   "outputs": [
    {
     "data": {
      "text/plain": [
       "0        2016-04-29\n",
       "1        2016-04-29\n",
       "2        2016-04-29\n",
       "3        2016-04-29\n",
       "4        2016-04-29\n",
       "            ...    \n",
       "110522   2016-06-07\n",
       "110523   2016-06-07\n",
       "110524   2016-06-07\n",
       "110525   2016-06-07\n",
       "110526   2016-06-07\n",
       "Name: AppointmentDay, Length: 110527, dtype: datetime64[ns]"
      ]
     },
     "execution_count": 9,
     "metadata": {},
     "output_type": "execute_result"
    }
   ],
   "source": [
    "df['AppointmentDay']"
   ]
  },
  {
   "cell_type": "markdown",
   "id": "4e80f215",
   "metadata": {},
   "source": [
    "show result converting to column AppointmentDay"
   ]
  },
  {
   "cell_type": "markdown",
   "id": "5e5828e0",
   "metadata": {},
   "source": [
    "# Exploratory Data Analysis"
   ]
  },
  {
   "cell_type": "markdown",
   "id": "09fd58c1",
   "metadata": {},
   "source": [
    "how many Alcoholism per gender/which gender is more Alcoholism?"
   ]
  },
  {
   "cell_type": "code",
   "execution_count": 10,
   "id": "29d14b61",
   "metadata": {},
   "outputs": [
    {
     "data": {
      "text/plain": [
       "Gender\n",
       "F    1223\n",
       "M    2137\n",
       "Name: Alcoholism, dtype: int64"
      ]
     },
     "execution_count": 10,
     "metadata": {},
     "output_type": "execute_result"
    },
    {
     "data": {
      "image/png": "[encoded data removed]",
      "text/plain": [
       "<Figure size 432x288 with 1 Axes>"
      ]
     },
     "metadata": {
      "needs_background": "light"
     },
     "output_type": "display_data"
    }
   ],
   "source": [
    "#used function groupby to gender column for find the differences between female and male by Alcoholism\n",
    "\n",
    "df1=df.groupby('Gender')['Alcoholism'].sum()\n",
    "df1.plot(kind='bar',title='Comparison of male and female to Alcoholism');\n",
    "plt.xlabel('Gender')\n",
    "plt.ylabel('Alcoholism')\n",
    "df1"
   ]
  },
  {
   "cell_type": "markdown",
   "id": "44a7563c",
   "metadata": {
    "scrolled": true
   },
   "source": [
    "number of male is 2137 and number of female is 1223"
   ]
  },
  {
   "cell_type": "markdown",
   "id": "47534c30",
   "metadata": {},
   "source": [
    "which day has the highest and lowest rate of all diseases?"
   ]
  },
  {
   "cell_type": "code",
   "execution_count": 13,
   "id": "bd8c6619",
   "metadata": {},
   "outputs": [
    {
     "name": "stderr",
     "output_type": "stream",
     "text": [
      "C:\\Users\\DELL\\AppData\\Local\\Temp\\ipykernel_7336\\2401021837.py:1: FutureWarning: Indexing with multiple keys (implicitly converted to a tuple of keys) will be deprecated, use a list instead.\n",
      "  dis_df=df.groupby('AppointmentDay',as_index=False)['Hipertension','Diabetes','Alcoholism'].mean().head(5)\n"
     ]
    }
   ],
   "source": [
    "\n",
    "dis_df=df.groupby('AppointmentDay',as_index=False)['Hipertension','Diabetes','Alcoholism'].mean().head(5)"
   ]
  },
  {
   "cell_type": "markdown",
   "id": "d8146b46",
   "metadata": {},
   "source": [
    "used mean for disease with groupby for AppointmentDay coulmn to calculate ratio disease according to the Appointment"
   ]
  },
  {
   "cell_type": "code",
   "execution_count": 14,
   "id": "c0b91778",
   "metadata": {},
   "outputs": [
    {
     "data": {
      "text/html": [
       "<div>\n",
       "<style scoped>\n",
       "    .dataframe tbody tr th:only-of-type {\n",
       "        vertical-align: middle;\n",
       "    }\n",
       "\n",
       "    .dataframe tbody tr th {\n",
       "        vertical-align: top;\n",
       "    }\n",
       "\n",
       "    .dataframe thead th {\n",
       "        text-align: right;\n",
       "    }\n",
       "</style>\n",
       "<table border=\"1\" class=\"dataframe\">\n",
       "  <thead>\n",
       "    <tr style=\"text-align: right;\">\n",
       "      <th></th>\n",
       "      <th>AppointmentDay</th>\n",
       "      <th>Hipertension</th>\n",
       "      <th>Diabetes</th>\n",
       "      <th>Alcoholism</th>\n",
       "    </tr>\n",
       "  </thead>\n",
       "  <tbody>\n",
       "    <tr>\n",
       "      <th>0</th>\n",
       "      <td>2016-04-29</td>\n",
       "      <td>0.190726</td>\n",
       "      <td>0.074498</td>\n",
       "      <td>0.031839</td>\n",
       "    </tr>\n",
       "    <tr>\n",
       "      <th>1</th>\n",
       "      <td>2016-05-02</td>\n",
       "      <td>0.207267</td>\n",
       "      <td>0.073583</td>\n",
       "      <td>0.031764</td>\n",
       "    </tr>\n",
       "    <tr>\n",
       "      <th>2</th>\n",
       "      <td>2016-05-03</td>\n",
       "      <td>0.208882</td>\n",
       "      <td>0.074013</td>\n",
       "      <td>0.030075</td>\n",
       "    </tr>\n",
       "    <tr>\n",
       "      <th>3</th>\n",
       "      <td>2016-05-04</td>\n",
       "      <td>0.202255</td>\n",
       "      <td>0.065499</td>\n",
       "      <td>0.028311</td>\n",
       "    </tr>\n",
       "    <tr>\n",
       "      <th>4</th>\n",
       "      <td>2016-05-05</td>\n",
       "      <td>0.204306</td>\n",
       "      <td>0.071144</td>\n",
       "      <td>0.028317</td>\n",
       "    </tr>\n",
       "  </tbody>\n",
       "</table>\n",
       "</div>"
      ],
      "text/plain": [
       "  AppointmentDay  Hipertension  Diabetes  Alcoholism\n",
       "0     2016-04-29      0.190726  0.074498    0.031839\n",
       "1     2016-05-02      0.207267  0.073583    0.031764\n",
       "2     2016-05-03      0.208882  0.074013    0.030075\n",
       "3     2016-05-04      0.202255  0.065499    0.028311\n",
       "4     2016-05-05      0.204306  0.071144    0.028317"
      ]
     },
     "execution_count": 14,
     "metadata": {},
     "output_type": "execute_result"
    }
   ],
   "source": [
    " dis_df"
   ]
  },
  {
   "cell_type": "markdown",
   "id": "6ff1a281",
   "metadata": {},
   "source": [
    "show result variable dis_df"
   ]
  },
  {
   "cell_type": "code",
   "execution_count": 15,
   "id": "3bd4a0c1",
   "metadata": {},
   "outputs": [],
   "source": [
    "#to make visualizations more clear\n",
    "dis_df['AppointmentDay']=dis_df['AppointmentDay'].astype(str)"
   ]
  },
  {
   "cell_type": "markdown",
   "id": "b2f498e2",
   "metadata": {},
   "source": [
    "to make visualizations more clear"
   ]
  },
  {
   "cell_type": "code",
   "execution_count": 16,
   "id": "28af5b68",
   "metadata": {},
   "outputs": [
    {
     "data": {
      "text/plain": [
       "<matplotlib.legend.Legend at 0x201f0083340>"
      ]
     },
     "execution_count": 16,
     "metadata": {},
     "output_type": "execute_result"
    },
    {
     "data": {
      "image/png": "[encoded data removed]",
      "text/plain": [
       "<Figure size 720x360 with 1 Axes>"
      ]
     },
     "metadata": {
      "needs_background": "light"
     },
     "output_type": "display_data"
    }
   ],
   "source": [
    "#used plot to explore variables\n",
    "plt.figure(figsize=(10,5))\n",
    "plt.plot(dis_df['AppointmentDay'],dis_df['Hipertension'],marker='o');\n",
    "plt.plot(dis_df['AppointmentDay'],dis_df['Diabetes'],marker='o');\n",
    "plt.plot(dis_df['AppointmentDay'],dis_df['Alcoholism'],marker='o');\n",
    "\n",
    "plt.yticks([0.1,0.15,0.2,0.25,0.3])\n",
    "plt.title('disease rate for each Appointment')\n",
    "plt.xlabel('AppointmentDay')\n",
    "plt.ylabel('disease rate')\n",
    "plt.legend(['Hipertension','Diabetes','Alcoholism'])"
   ]
  },
  {
   "cell_type": "markdown",
   "id": "9da7f12a",
   "metadata": {},
   "source": [
    "Alcoholism disease reached its highest case on day 29 rate 2% and its lowest case on day 4 rate 1% and it is nearly steady while Hipertension reached its highest case on 3 day rate 22% and lowest case on 29 day rate 18%, Diabetes disease reached its highest case in 2 day rate 7%, the Hipertension disease is highest oscillation"
   ]
  },
  {
   "cell_type": "markdown",
   "id": "fe9b6ec1",
   "metadata": {},
   "source": [
    "\n",
    "\n",
    "\n",
    "\n",
    "# Conclusions"
   ]
  },
  {
   "cell_type": "markdown",
   "id": "2041177f",
   "metadata": {},
   "source": [
    "\n",
    "\n",
    "\n",
    "\n",
    "\n",
    "to sum up,1-how many alcoholism per gender/which gender is more Alcoholism? number of male is 2137 and number of female is 1223 ,Also male is most Alcoholism .which day has the highest and lowest rate of all diseases? \n",
    " the highest rate for the patients Hipertension  in 3 Appointment day and lowest rate  in 29 Appointment day , the highest rate for the patients Diabetes in 2 Appointment day and lowest rate in 4 day , the highest rate for the patients Alcoholism  in 29 day and lowest rate in 4 day.\n",
    " \n",
    "limitations: \n",
    "low quality of data ,the quality of the data collection poor there some instance where adequate data is not available for proper analytics to be done\n",
    "\n",
    "\n"
   ]
  },
  {
   "cell_type": "markdown",
   "id": "855e666c",
   "metadata": {},
   "source": [
    " \n"
   ]
  },
  {
   "cell_type": "code",
   "execution_count": null,
   "id": "89aa53c1",
   "metadata": {},
   "outputs": [],
   "source": []
  }
 ],
 "metadata": {
  "kernelspec": {
   "display_name": "Python 3 (ipykernel)",
   "language": "python",
   "name": "python3"
  },
  "language_info": {
   "codemirror_mode": {
    "name": "ipython",
    "version": 3
   },
   "file_extension": ".py",
   "mimetype": "text/x-python",
   "name": "python",
   "nbconvert_exporter": "python",
   "pygments_lexer": "ipython3",
   "version": "3.9.12"
  }
 },
 "nbformat": 4,
 "nbformat_minor": 5
}
